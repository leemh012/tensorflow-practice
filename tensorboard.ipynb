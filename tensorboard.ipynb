{
 "cells": [
  {
   "cell_type": "code",
   "execution_count": 1,
   "metadata": {},
   "outputs": [],
   "source": [
    "%load_ext tensorboard"
   ]
  },
  {
   "cell_type": "code",
   "execution_count": 2,
   "metadata": {},
   "outputs": [],
   "source": [
    "import tensorflow as tf\n",
    "import datetime"
   ]
  },
  {
   "cell_type": "code",
   "execution_count": 3,
   "metadata": {},
   "outputs": [
    {
     "name": "stdout",
     "output_type": "stream",
     "text": [
      "Downloading data from https://storage.googleapis.com/tensorflow/tf-keras-datasets/mnist.npz\n",
      "11493376/11490434 [==============================] - 1s 0us/step\n"
     ]
    }
   ],
   "source": [
    "mnist = tf.keras.datasets.mnist\n",
    "\n",
    "(x_train, y_train),(x_test, y_test) = mnist.load_data()\n",
    "x_train, x_test = x_train / 255.0, x_test / 255.0\n",
    "\n",
    "def create_model():\n",
    "    return tf.keras.models.Sequential([\n",
    "    tf.keras.layers.Flatten(input_shape=(28, 28)),\n",
    "    tf.keras.layers.Dense(512, activation='relu'),\n",
    "    tf.keras.layers.Dropout(0.2),\n",
    "    tf.keras.layers.Dense(10, activation='softmax')\n",
    "    ])"
   ]
  },
  {
   "cell_type": "code",
   "execution_count": 4,
   "metadata": {},
   "outputs": [
    {
     "name": "stdout",
     "output_type": "stream",
     "text": [
      "Train on 60000 samples, validate on 10000 samples\n",
      "Epoch 1/5\n",
      "60000/60000 [==============================] - 5s 91us/sample - loss: 0.2170 - accuracy: 0.9355 - val_loss: 0.1037 - val_accuracy: 0.9684\n",
      "Epoch 2/5\n",
      "60000/60000 [==============================] - 5s 79us/sample - loss: 0.0976 - accuracy: 0.9704 - val_loss: 0.0698 - val_accuracy: 0.9774\n",
      "Epoch 3/5\n",
      "60000/60000 [==============================] - 5s 78us/sample - loss: 0.0683 - accuracy: 0.9781 - val_loss: 0.0753 - val_accuracy: 0.9760\n",
      "Epoch 4/5\n",
      "60000/60000 [==============================] - 5s 77us/sample - loss: 0.0522 - accuracy: 0.9826 - val_loss: 0.0733 - val_accuracy: 0.9794\n",
      "Epoch 5/5\n",
      "60000/60000 [==============================] - 5s 76us/sample - loss: 0.0443 - accuracy: 0.9852 - val_loss: 0.0612 - val_accuracy: 0.9821\n"
     ]
    },
    {
     "data": {
      "text/plain": [
       "<tensorflow.python.keras.callbacks.History at 0x7f2957d99c88>"
      ]
     },
     "execution_count": 4,
     "metadata": {},
     "output_type": "execute_result"
    }
   ],
   "source": [
    "model = create_model()\n",
    "model.compile(optimizer='adam',\n",
    "              loss='sparse_categorical_crossentropy',\n",
    "              metrics=['accuracy'])\n",
    "\n",
    "log_dir=\"logs/fit/\" + datetime.datetime.now().strftime(\"%Y%m%d-%H%M%S\")\n",
    "tensorboard_callback = tf.keras.callbacks.TensorBoard(log_dir=log_dir, histogram_freq=1)\n",
    "\n",
    "model.fit(x=x_train, \n",
    "          y=y_train, \n",
    "          epochs=5, \n",
    "          validation_data=(x_test, y_test), \n",
    "          callbacks=[tensorboard_callback])"
   ]
  },
  {
   "cell_type": "code",
   "execution_count": 5,
   "metadata": {},
   "outputs": [
    {
     "data": {
      "text/plain": [
       "ERROR: Failed to launch TensorBoard (exited with 1).\n",
       "Contents of stderr:\n",
       "Exception in thread Reloader:\n",
       "Traceback (most recent call last):\n",
       "  File \"/usr/lib/python3.6/threading.py\", line 916, in _bootstrap_inner\n",
       "    self.run()\n",
       "  File \"/usr/lib/python3.6/threading.py\", line 864, in run\n",
       "    self._target(*self._args, **self._kwargs)\n",
       "  File \"/home/leemh/dl-venv/lib/python3.6/site-packages/tensorboard/backend/application.py\", line 588, in _reload\n",
       "    multiplexer.Reload()\n",
       "  File \"/home/leemh/dl-venv/lib/python3.6/site-packages/tensorboard/backend/event_processing/plugin_event_multiplexer.py\", line 246, in Reload\n",
       "    Worker()\n",
       "  File \"/home/leemh/dl-venv/lib/python3.6/site-packages/tensorboard/backend/event_processing/plugin_event_multiplexer.py\", line 224, in Worker\n",
       "    accumulator.Reload()\n",
       "  File \"/home/leemh/dl-venv/lib/python3.6/site-packages/tensorboard/backend/event_processing/plugin_event_accumulator.py\", line 177, in Reload\n",
       "    for event in self._generator.Load():\n",
       "  File \"/home/leemh/dl-venv/lib/python3.6/site-packages/tensorboard/backend/event_processing/directory_watcher.py\", line 89, in Load\n",
       "    for event in self._LoadInternal():\n",
       "  File \"/home/leemh/dl-venv/lib/python3.6/site-packages/tensorboard/backend/event_processing/directory_watcher.py\", line 109, in _LoadInternal\n",
       "    self._InitializeLoader()\n",
       "  File \"/home/leemh/dl-venv/lib/python3.6/site-packages/tensorboard/backend/event_processing/directory_watcher.py\", line 172, in _InitializeLoader\n",
       "    self._SetPath(path)\n",
       "  File \"/home/leemh/dl-venv/lib/python3.6/site-packages/tensorboard/backend/event_processing/directory_watcher.py\", line 194, in _SetPath\n",
       "    self._loader = self._loader_factory(path)\n",
       "  File \"/home/leemh/dl-venv/lib/python3.6/site-packages/tensorboard/backend/event_processing/event_file_loader.py\", line 42, in __init__\n",
       "    self._reader = _pywrap_tensorflow.PyRecordReader_New(\n",
       "  File \"/home/leemh/dl-venv/lib/python3.6/site-packages/tensorboard/lazy.py\", line 65, in __getattr__\n",
       "    return getattr(load_once(self), attr_name)\n",
       "AttributeError: module 'tensorflow.python.pywrap_tensorflow' has no attribute 'PyRecordReader_New'\n",
       "\n",
       "Traceback (most recent call last):\n",
       "  File \"/home/leemh/dl-venv/bin/tensorboard\", line 8, in <module>\n",
       "    sys.exit(run_main())\n",
       "  File \"/home/leemh/dl-venv/lib/python3.6/site-packages/tensorboard/main.py\", line 66, in run_main\n",
       "    app.run(tensorboard.main, flags_parser=tensorboard.configure)\n",
       "  File \"/home/leemh/dl-venv/lib/python3.6/site-packages/absl/app.py\", line 299, in run\n",
       "    _run_main(main, args)\n",
       "  File \"/home/leemh/dl-venv/lib/python3.6/site-packages/absl/app.py\", line 250, in _run_main\n",
       "    sys.exit(main(argv))\n",
       "  File \"/home/leemh/dl-venv/lib/python3.6/site-packages/tensorboard/program.py\", line 268, in main\n",
       "    return runner(self.flags) or 0\n",
       "  File \"/home/leemh/dl-venv/lib/python3.6/site-packages/tensorboard/program.py\", line 282, in _run_serve_subcommand\n",
       "    server = self._make_server()\n",
       "  File \"/home/leemh/dl-venv/lib/python3.6/site-packages/tensorboard/program.py\", line 361, in _make_server\n",
       "    self.assets_zip_provider)\n",
       "  File \"/home/leemh/dl-venv/lib/python3.6/site-packages/tensorboard/backend/application.py\", line 165, in standard_tensorboard_wsgi\n",
       "    flags, plugin_loaders, data_provider, assets_zip_provider, multiplexer)\n",
       "  File \"/home/leemh/dl-venv/lib/python3.6/site-packages/tensorboard/backend/application.py\", line 234, in TensorBoardWSGIApp\n",
       "    return TensorBoardWSGI(tbplugins, flags.path_prefix)\n",
       "  File \"/home/leemh/dl-venv/lib/python3.6/site-packages/tensorboard/backend/application.py\", line 286, in __init__\n",
       "    raise ValueError('Duplicate plugins for name %s' % plugin.plugin_name)\n",
       "ValueError: Duplicate plugins for name whatif"
      ]
     },
     "metadata": {},
     "output_type": "display_data"
    }
   ],
   "source": [
    "%tensorboard --logdir logs/fit"
   ]
  }
 ],
 "metadata": {
  "kernelspec": {
   "display_name": "Deep learning",
   "language": "python",
   "name": "dl-venv"
  },
  "language_info": {
   "codemirror_mode": {
    "name": "ipython",
    "version": 3
   },
   "file_extension": ".py",
   "mimetype": "text/x-python",
   "name": "python",
   "nbconvert_exporter": "python",
   "pygments_lexer": "ipython3",
   "version": "3.6.9"
  }
 },
 "nbformat": 4,
 "nbformat_minor": 4
}
